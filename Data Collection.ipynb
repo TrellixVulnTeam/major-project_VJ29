{
 "cells": [
  {
   "cell_type": "code",
   "execution_count": 1,
   "id": "a7b944d4",
   "metadata": {},
   "outputs": [],
   "source": [
    "import cv2\n",
    "import os\n",
    "import time\n",
    "import uuid"
   ]
  },
  {
   "cell_type": "code",
   "execution_count": 2,
   "id": "e1f6c49a",
   "metadata": {},
   "outputs": [],
   "source": [
    "IMAGES_PATH = 'Tensorflow/workspace/images/collectedimages'"
   ]
  },
  {
   "cell_type": "code",
   "execution_count": 3,
   "id": "8550d115",
   "metadata": {},
   "outputs": [],
   "source": [
    "labels = ['LetterA', 'LetterB', 'LetterC', 'LetterD', 'LetterE', 'LetterF', 'LetterG', 'LetterH', 'LetterI', 'LetterJ', 'LetterK', 'LetterL', 'LetterM', 'LetterN', 'LetterO', 'LetterP', 'LetterQ', 'LetterR', 'LetterS', 'LetterT', 'LetterU', 'LetterV', 'LetterW', 'LetterX', 'LetterY', 'LetterZ']\n",
    "num_images = 15"
   ]
  },
  {
   "cell_type": "code",
   "execution_count": 4,
   "id": "02cc9e07",
   "metadata": {},
   "outputs": [
    {
     "name": "stdout",
     "output_type": "stream",
     "text": [
      "Collecting images for LetterA\n",
      "Collecting images for LetterB\n",
      "Collecting images for LetterC\n",
      "Collecting images for LetterD\n",
      "Collecting images for LetterE\n",
      "Collecting images for LetterF\n",
      "Collecting images for LetterG\n",
      "Collecting images for LetterH\n",
      "Collecting images for LetterI\n",
      "Collecting images for LetterJ\n",
      "Collecting images for LetterK\n",
      "Collecting images for LetterL\n",
      "Collecting images for LetterM\n",
      "Collecting images for LetterN\n",
      "Collecting images for LetterO\n",
      "Collecting images for LetterP\n",
      "Collecting images for LetterQ\n",
      "Collecting images for LetterR\n",
      "Collecting images for LetterS\n",
      "Collecting images for LetterT\n",
      "Collecting images for LetterU\n",
      "Collecting images for LetterV\n",
      "Collecting images for LetterW\n",
      "Collecting images for LetterX\n",
      "Collecting images for LetterY\n",
      "Collecting images for LetterZ\n"
     ]
    }
   ],
   "source": [
    "for label in labels:\n",
    "    !mkdir {'Tensorflow\\workspace\\images\\collectedimages\\\\' + label}\n",
    "    cap = cv2.VideoCapture(0)\n",
    "    print('Collecting images for {}'.format(label))\n",
    "    time.sleep(7)\n",
    "    for imgnum in range(num_images):\n",
    "        ret, frame = cap.read()\n",
    "        imagename = os.path.join(IMAGES_PATH, label, label+'.'+'{}.jpg'.format(str(uuid.uuid1())))\n",
    "        cv2.imwrite(imagename, frame)\n",
    "        cv2.imshow('frame', frame)\n",
    "        time.sleep(2)\n",
    "        \n",
    "        if cv2.waitKey(1) & 0xFF == ord('q'):\n",
    "            break\n",
    "    cap.release()"
   ]
  },
  {
   "cell_type": "code",
   "execution_count": null,
   "id": "833f49e3",
   "metadata": {},
   "outputs": [],
   "source": []
  }
 ],
 "metadata": {
  "kernelspec": {
   "display_name": "Python 3 (ipykernel)",
   "language": "python",
   "name": "python3"
  },
  "language_info": {
   "codemirror_mode": {
    "name": "ipython",
    "version": 3
   },
   "file_extension": ".py",
   "mimetype": "text/x-python",
   "name": "python",
   "nbconvert_exporter": "python",
   "pygments_lexer": "ipython3",
   "version": "3.9.7"
  }
 },
 "nbformat": 4,
 "nbformat_minor": 5
}
